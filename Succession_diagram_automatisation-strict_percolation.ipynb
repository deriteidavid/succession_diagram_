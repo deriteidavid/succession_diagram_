{
 "cells": [
  {
   "cell_type": "code",
   "execution_count": 10,
   "metadata": {},
   "outputs": [],
   "source": [
    "#!/usr/bin/env python3\n",
    "# -*- coding: utf-8 -*-\n",
    "import PyBoolNet\n",
    "import networkx as nx\n",
    "def read_rules_text(model_name):\n",
    "    '''\n",
    "    Reads in the Boolean model\n",
    "    '''\n",
    "    rules_file=model_name\n",
    "    with open(rules_file,'r') as f:\n",
    "        rules=f.read()\n",
    "    rules=rules.replace('#BOOLEAN RULES','')\n",
    "    return rules\n",
    "\n",
    "            \n",
    "def get_stable_motif_successions_recursive(rules,node_substitutions, succession):\n",
    "    \n",
    "    '''\n",
    "    Recursively builds lines of successively stabilising trap spaces based on the \n",
    "    get_maximal_trap_spaces_after_percolation() function \n",
    "    '''   \n",
    "    \n",
    "    new_rules,maxts=get_maximal_trap_spaces_after_percolation(rules,node_substitutions)\n",
    "    if len(maxts)==0:\n",
    "        yield succession\n",
    "    else:\n",
    "        for SM in maxts:\n",
    "            yield from  get_stable_motif_successions_recursive(new_rules,SM,succession+[SM])\n",
    "\n",
    "\n",
    "def get_maximal_trap_spaces_after_percolation(rules,node_substitutions):  \n",
    "    \n",
    "    '''\n",
    "    Given a set of Boolean rules, substitutes the values given in node substitutions and after finding the\n",
    "    prime implicants it further simplifies the model by finding the LDOI of the substitution using\n",
    "    PyBoolNet.PrimeImplicants.percolate_and_remove_constants(primes) and further reducing the rules. \n",
    "    Finally it finds the stable motifs (maximal trap spaces) using \n",
    "    PyBoolNet.AspSolver.trap_spaces(primes, \"max\")\n",
    "    \n",
    "    '''\n",
    "    rules_new=rules[:]\n",
    "    if len(node_substitutions)==0:\n",
    "        rules_new=rules[:]\n",
    "    else:\n",
    "        for node,value in node_substitutions.items():\n",
    "            rules_new='\\n'.join([s for s in rules_new.split('\\n') if s.split(',')[0]!=node])\n",
    "            rules_new=rules_new.replace(node,str(value))\n",
    "    primes = PyBoolNet.FileExchange.bnet2primes(rules_new)\n",
    "    if len(rules_new.strip())==0:\n",
    "        return '',[]\n",
    "    \n",
    "    constants=PyBoolNet.PrimeImplicants.percolate_and_remove_constants(primes)\n",
    "    for line in rules_new.strip().split('\\n'):\n",
    "        node=line.split(',')[0].strip()\n",
    "        rule=line.split(',')[1].strip()\n",
    "        if node in constants.keys():\n",
    "            rules_new=rules_new.replace(line+'\\n','')\n",
    "        for n,v in constants.items():\n",
    "            rule_new=rule.replace(n,str(v))\n",
    "            rules_new=rules_new.replace(rule,rule_new)\n",
    "    primes = PyBoolNet.FileExchange.bnet2primes(rules_new)\n",
    "    maxts = PyBoolNet.AspSolver.trap_spaces(primes, \"max\")\n",
    "\n",
    "    return rules_new,maxts\n",
    "    \n",
    "def get_final_state_corresponding_to_trap_space_succession(rules,succession):\n",
    "    \n",
    "    '''\n",
    "    Based on a succession line it finds the final steady state and/or oscillating components.\n",
    "    We use this function in order to not burden the recursion with storing what has been substituted already\n",
    "    and we infer the final steady state once the succession lines were built. \n",
    "    \n",
    "    If a node oscillates by the end it will assign the string \"osc\" to the corresponding variable in\n",
    "    the returned dictionary\n",
    "    '''\n",
    "\n",
    "    node_substitutions={}\n",
    "    for mts in succession:\n",
    "        for n,v in mts.items():\n",
    "            node_substitutions[n]=str(v)\n",
    "    new_lines=[]\n",
    "    for line in rules.strip().split('\\n'):\n",
    "        n,rule=line.split(',')\n",
    "        for node,value in node_substitutions.items():\n",
    "            rule=rule.replace(node,str(value))\n",
    "        new_lines.append(n+',\\t'+rule)\n",
    "    rules_new='\\n'.join(new_lines)            \n",
    "    primes = PyBoolNet.FileExchange.bnet2primes(rules_new)\n",
    "    steady = PyBoolNet.AspSolver.steady_states(primes)\n",
    "    constants=PyBoolNet.PrimeImplicants.percolate_and_remove_constants(primes)\n",
    "    if len(steady)==1:\n",
    "        return steady[0]\n",
    "    elif len(steady)==0: #we are dealing with an oscillation\n",
    "        nodes= [s.split(',')[0].strip() for s in rules.split('\\n') if s.strip()!='']\n",
    "        final_state={} \n",
    "        for n,v in node_substitutions.items():\n",
    "            final_state[n]=str(v)\n",
    "            if n in nodes:\n",
    "                nodes.remove(n)\n",
    "        for n,v in constants.items():\n",
    "            final_state[n]=str(v)\n",
    "            if n in nodes:\n",
    "                nodes.remove(n)\n",
    "        for n in nodes:\n",
    "            final_state[n]='osc'\n",
    "        return final_state\n",
    "    else:\n",
    "        raise ValueError('The succession does not lead to a unique attractor.')\n",
    "\n",
    "def edge_list_from_succession_line(succession):\n",
    "    \n",
    "    '''Transfroms the succession line into an edge list'''\n",
    "    \n",
    "    x=[]\n",
    "    for k in succession:\n",
    "        s=''\n",
    "        for node,state in sorted(k.items()):\n",
    "            s+='%s=%s;'%(node,str(state))\n",
    "        x.append(s)\n",
    "    return zip(x[:-1],x[1:])\n",
    "        \n"
   ]
  },
  {
   "cell_type": "markdown",
   "metadata": {},
   "source": [
    "We read in the Boolean model and transform it into a PyBoolNet compatible syntax"
   ]
  },
  {
   "cell_type": "code",
   "execution_count": 15,
   "metadata": {},
   "outputs": [
    {
     "name": "stdout",
     "output_type": "stream",
     "text": [
      "['A', 'B', 'C', 'D', 'E', 'Fx']\n",
      "\n",
      "A,\tB\n",
      "B,\tA\n",
      "C,\tA | !D\n",
      "D,\tC\n",
      "E,\tB & Fx\n",
      "Fx,\tE\n",
      "\n"
     ]
    }
   ],
   "source": [
    "model_='test.txt'\n",
    "\n",
    "rules=read_rules_text(model_)\n",
    "\n",
    "nodes= [s.split('*=')[0].strip() for s in rules.split('\\n') if s.strip()!='']\n",
    "\n",
    "print(nodes)\n",
    "\n",
    "rules= rules.replace(' *=',',\\t').replace('*=',',\\t').replace('not ','!').replace(' and ',' & ').replace(' or ',' | ')\n",
    "\n",
    "print(rules)\n"
   ]
  },
  {
   "cell_type": "markdown",
   "metadata": {},
   "source": [
    "We call the recusive algoritm to build the succession lines"
   ]
  },
  {
   "cell_type": "code",
   "execution_count": 16,
   "metadata": {
    "scrolled": false
   },
   "outputs": [
    {
     "name": "stdout",
     "output_type": "stream",
     "text": [
      "[{'A': 0, 'B': 0}, {'A': 1, 'B': 1}, {'E': 0, 'Fx': 0}]\n",
      "\n",
      "A,\tB\n",
      "B,\tA\n",
      "C,\tA | !D\n",
      "D,\tC\n",
      "E,\tB & Fx\n",
      "Fx,\tE\n",
      "\n",
      "[]\n",
      "\n",
      "C,\t0 | !D\n",
      "D,\tC\n",
      "\n",
      "[{'E': 1, 'Fx': 1}, {'E': 0, 'Fx': 0}]\n",
      "\n",
      "E,\t1 & Fx\n",
      "Fx,\tE\n",
      "\n",
      "[{'A': 0, 'B': 0}, {'A': 1, 'B': 1}]\n",
      "\n",
      "A,\tB\n",
      "B,\tA\n",
      "C,\tA | !D\n",
      "D,\tC\n",
      "\n",
      "[]\n",
      "\n",
      "C,\t0 | !D\n",
      "D,\tC\n",
      "\n",
      "[]\n",
      "\n",
      "\n"
     ]
    }
   ],
   "source": [
    "starting_substitution={}\n",
    "successions=list(get_stable_motif_successions_recursive(rules,starting_substitution,[]))"
   ]
  },
  {
   "cell_type": "markdown",
   "metadata": {},
   "source": [
    "Building a graph out of the successions"
   ]
  },
  {
   "cell_type": "code",
   "execution_count": 18,
   "metadata": {},
   "outputs": [
    {
     "name": "stdout",
     "output_type": "stream",
     "text": [
      "[{'A': 0, 'B': 0}, {'A': '0', 'B': '0', 'E': '0', 'Fx': '0', 'C': 'osc', 'D': 'osc'}]\n",
      "[{'A': 1, 'B': 1}, {'E': 1, 'Fx': 1}, {'A': 1, 'B': 1, 'C': 1, 'D': 1, 'E': 1, 'Fx': 1}]\n",
      "[{'A': 1, 'B': 1}, {'E': 0, 'Fx': 0}, {'A': 1, 'B': 1, 'C': 1, 'D': 1, 'E': 0, 'Fx': 0}]\n",
      "[{'E': 0, 'Fx': 0}, {'A': 0, 'B': 0}, {'E': '0', 'Fx': '0', 'A': '0', 'B': '0', 'C': 'osc', 'D': 'osc'}]\n",
      "[{'E': 0, 'Fx': 0}, {'A': 1, 'B': 1}, {'A': 1, 'B': 1, 'C': 1, 'D': 1, 'E': 0, 'Fx': 0}]\n"
     ]
    }
   ],
   "source": [
    "\n",
    "G_succession=nx.DiGraph()\n",
    "for succession in successions:\n",
    "    #fss is the final steady state (or oscillation that will be a leaf in our graph)\n",
    "    fss=get_final_state_corresponding_to_trap_space_succession(rules,succession)\n",
    "    print (succession+[fss])\n",
    "    el=list(edge_list_from_succession_line(succession+[fss]))\n",
    "    G_succession.add_edges_from(el)\n",
    "    \n"
   ]
  },
  {
   "cell_type": "markdown",
   "metadata": {},
   "source": [
    "We plot the graph"
   ]
  },
  {
   "cell_type": "code",
   "execution_count": 22,
   "metadata": {},
   "outputs": [
    {
     "data": {
      "image/png": "[encoded data removed]",
      "text/plain": [
       "<Figure size 864x720 with 1 Axes>"
      ]
     },
     "metadata": {},
     "output_type": "display_data"
    }
   ],
   "source": [
    "import matplotlib.pyplot as plt\n",
    "plt.figure(figsize=(12,10))\n",
    "from networkx.drawing.nx_agraph import graphviz_layout\n",
    "pos =graphviz_layout(G_succession, prog='dot')\n",
    "nx.draw(G_succession, pos, with_labels=True, arrows=True)"
   ]
  },
  {
   "cell_type": "code",
   "execution_count": 20,
   "metadata": {},
   "outputs": [
    {
     "name": "stdout",
     "output_type": "stream",
     "text": [
      "A=0;B=0;\n",
      "A=0;B=0;C=osc;D=osc;E=0;Fx=0;\n",
      "A=1;B=1;\n",
      "E=1;Fx=1;\n",
      "A=1;B=1;C=1;D=1;E=1;Fx=1;\n",
      "E=0;Fx=0;\n",
      "A=1;B=1;C=1;D=1;E=0;Fx=0;\n"
     ]
    }
   ],
   "source": [
    "for n in G_succession.nodes():\n",
    "    print(n)\n",
    "    G_succession.node[n]['label']=n"
   ]
  },
  {
   "cell_type": "code",
   "execution_count": 21,
   "metadata": {},
   "outputs": [],
   "source": [
    "nx.write_graphml(G_succession,'succession_graph_%s.graphml'%model_.replace('.txt',''))"
   ]
  },
  {
   "cell_type": "code",
   "execution_count": null,
   "metadata": {},
   "outputs": [],
   "source": []
  }
 ],
 "metadata": {
  "kernelspec": {
   "display_name": "Python [conda env:python_3_env]",
   "language": "python",
   "name": "conda-env-python_3_env-py"
  },
  "language_info": {
   "codemirror_mode": {
    "name": "ipython",
    "version": 3
   },
   "file_extension": ".py",
   "mimetype": "text/x-python",
   "name": "python",
   "nbconvert_exporter": "python",
   "pygments_lexer": "ipython3",
   "version": "3.6.4"
  }
 },
 "nbformat": 4,
 "nbformat_minor": 2
}
